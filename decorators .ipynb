{
 "cells": [
  {
   "cell_type": "code",
   "execution_count": 3,
   "metadata": {},
   "outputs": [
    {
     "name": "stdout",
     "output_type": "stream",
     "text": [
      "12\n",
      "5\n",
      "manish\n"
     ]
    }
   ],
   "source": [
    "def data_fun(fun):\n",
    "    fun.data = 5\n",
    "    fun.name = 'manish'\n",
    "    fun.address = 'jaipur'\n",
    "    return fun\n",
    "@data_fun\n",
    "def add(x,y):\n",
    "    return x+y\n",
    "print(add(5,7))\n",
    "print(add.data)\n",
    "print(add.name)"
   ]
  },
  {
   "cell_type": "code",
   "execution_count": 5,
   "metadata": {},
   "outputs": [
    {
     "name": "stdout",
     "output_type": "stream",
     "text": [
      "Enter reverse number123\n",
      "not reverse\n"
     ]
    }
   ],
   "source": [
    "n = int(input(\"Enter reverse number\"))\n",
    "s = str(n)\n",
    "t  = s[::-1]\n",
    "N  = int(t)\n",
    "if n==N:\n",
    "    print(\"reverse number\")\n",
    "else:\n",
    "    print(\"not reverse\")"
   ]
  },
  {
   "cell_type": "code",
   "execution_count": 15,
   "metadata": {},
   "outputs": [
    {
     "name": "stdout",
     "output_type": "stream",
     "text": [
      "JJJJJJJJJJ\n",
      "      J   \n",
      "      J   \n",
      "      J   \n",
      "      J   \n",
      "J     J   \n",
      "J     J   \n",
      "J     J   \n",
      "JJJJJJJ   \n"
     ]
    }
   ],
   "source": [
    "for row in range(9):\n",
    "    for col in range(10):\n",
    "        if (col==6 or row==0 ) or (row==8 and col<7) or (col==0 and row>4):\n",
    "            print(chr(74),end=\"\")\n",
    "        else:\n",
    "            print(end=\" \")\n",
    "    print()"
   ]
  },
  {
   "cell_type": "code",
   "execution_count": 18,
   "metadata": {},
   "outputs": [
    {
     "name": "stdout",
     "output_type": "stream",
     "text": [
      "x\\97\n"
     ]
    }
   ],
   "source": [
    "print('x\\97\\x98')"
   ]
  },
  {
   "cell_type": "code",
   "execution_count": 22,
   "metadata": {},
   "outputs": [
    {
     "name": "stdout",
     "output_type": "stream",
     "text": [
      "33\n"
     ]
    }
   ],
   "source": [
    "print(0xA+0xB+0xC)\n"
   ]
  },
  {
   "cell_type": "code",
   "execution_count": null,
   "metadata": {},
   "outputs": [],
   "source": []
  }
 ],
 "metadata": {
  "kernelspec": {
   "display_name": "Python 3",
   "language": "python",
   "name": "python3"
  },
  "language_info": {
   "codemirror_mode": {
    "name": "ipython",
    "version": 3
   },
   "file_extension": ".py",
   "mimetype": "text/x-python",
   "name": "python",
   "nbconvert_exporter": "python",
   "pygments_lexer": "ipython3",
   "version": "3.7.0"
  }
 },
 "nbformat": 4,
 "nbformat_minor": 2
}
