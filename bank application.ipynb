{
 "cells": [
  {
   "cell_type": "code",
   "execution_count": 7,
   "metadata": {},
   "outputs": [],
   "source": [
    "data = {\n",
    "    \n",
    "    1001:{'user_name':'ram','password':'123ram','bal':'20000','email':'ram@gmail.com','address':'jaipur','ph_no':'787342788'},\n",
    "    1002:{'user_name':'shyam','password':'123shyam','bal':'30000','email':'shyam@gmail.com','address':'noida','ph_no':'78734688'},\n",
    "    1003:{'user_name':'mohan','password':'123mohan','bal':'40000','email':'mohan@gmail.com','address':'delhi','ph_no':'98642788'}\n",
    "    }\n",
    "from getpass import getpass\n",
    "    "
   ]
  },
  {
   "cell_type": "code",
   "execution_count": 8,
   "metadata": {},
   "outputs": [],
   "source": [
    "def signup():\n",
    "    print(\"\\n\\nwelcome to signup service\")\n",
    "    uname = input(\"username :\")\n",
    "    password = getpass(\"password: \")\n",
    "    bal = input(\"enter you bal:\")\n",
    "    email = input(\"Enter your email:\")\n",
    "    address = input(\"Enter your address:\")\n",
    "    ph_no = int(input(\"Enter your phone number:\"))\n",
    "    acc_nums = sorted(list(data.keys()))\n",
    "    acc_no =acc_nums[-1] +1\n",
    "    data[acc_no] = {'username':uname,'password':password,'bal':bal,'email':email,'address':address,'ph_no':ph_no}\n",
    "    print(\"\\n\\nyour account successfully created\")\n",
    "    print(f\"\\n\\n {acc_no}this is your account\\n\\n\")\n",
    "    print(\"press any key to continue\")\n",
    "    login()\n"
   ]
  },
  {
   "cell_type": "code",
   "execution_count": 9,
   "metadata": {},
   "outputs": [],
   "source": [
    "def check_balance(acc_no):\n",
    "    print(f\"\\n\\nwelcome user {data[acc_no]['user_name']} to check balance service\\n\\n\")\n",
    "    for key,value in [acc_no].items():\n",
    "          print(\"your account no. is :\",acc_no)\n",
    "          print(f\"{key} ={value}\")\n",
    "          choice(acc_no)\n",
    "          "
   ]
  },
  {
   "cell_type": "code",
   "execution_count": 10,
   "metadata": {},
   "outputs": [],
   "source": [
    "def debit(acc_no):\n",
    "    print(f\"\\n\\nwelcome user{data[acc_no]['user_name']} to debit service\\n\\n\")\n",
    "    amount = int(input(\"Enter your amount to be debit\"))\n",
    "    if amount>data[acc_no]['bal']:\n",
    "        print(\"insufficient balance \")\n",
    "        print(f\"you have only {data[acc_no]['bal']}left in your account\")\n",
    "        choice(acc_no)\n",
    "    else:\n",
    "        data[acc_no]['bal'] -= amount\n",
    "        print(f\"\\nyour account successfully debited with {amount} your current bal is{data[acc_no]['bal']}\")\n",
    "        choice(acc_no)"
   ]
  },
  {
   "cell_type": "code",
   "execution_count": 11,
   "metadata": {},
   "outputs": [],
   "source": [
    "def credit(acc_no):\n",
    "    print(f\"\\n\\nwelcome user {data[acc_no]['user_name']} to credit service\\n\\n\")\n",
    "    amount = int(input(\"Enter your amount to be credit\"))\n",
    "    data[acc_no]['bal'] += amount\n",
    "    print(f\"\\nyour account successfully credited with {amount} your current bal is{data[acc_no]['bal']}\")\n",
    "    choice(acc_no)"
   ]
  },
  {
   "cell_type": "code",
   "execution_count": 12,
   "metadata": {},
   "outputs": [],
   "source": [
    "def choice(acc_no):\n",
    "    print(\"\\nchoose one of the service:\")\n",
    "    print(\"\\n\\n1.credit\\n\\n2.debit\\n\\n3.check_balance\\n\\n4.logout\")\n",
    "    ch=int(input(\"Enter your choice number:\"))\n",
    "    if ch==1:\n",
    "        credit()\n",
    "    elif ch==2:\n",
    "        debit()\n",
    "    elif ch==3:\n",
    "        check_balance()\n",
    "    elif ch==4:\n",
    "        main()\n",
    "    else:\n",
    "        print(\"you entered invalid choice plz try again:\")\n",
    "        choice(acc_no)\n",
    "        "
   ]
  },
  {
   "cell_type": "code",
   "execution_count": null,
   "metadata": {},
   "outputs": [],
   "source": [
    "def login():\n",
    "    print(\"\\nwelcome to login service\")\n",
    "    acc_no = int(input(\"Enter your account number:\"))\n",
    "    if acc_no in data.keys():\n",
    "        from getpass import getpass\n",
    "        password = getpass(\"Enter your password:\")\n",
    "        if password == data[acc_no]['password']:\n",
    "            choice(acc_no)\n",
    "        else:\n",
    "            print(\"\\n\\ninvalid password plz try again:\")\n",
    "            login()\n",
    "    else:\n",
    "        print(\"n\\n\\invalid account number plz go to signup:\")\n",
    "        main()"
   ]
  },
  {
   "cell_type": "code",
   "execution_count": null,
   "metadata": {},
   "outputs": [],
   "source": [
    "def main():\n",
    "    ch = int(input(\"Enter your service:...\"))\n",
    "    print(\"\\n\\nwelcome to bank application\")\n",
    "    print(\"\\n\\nchoose your service\")\n",
    "    print(\"\\n1.login\\n2.signup\\n3.exit\")\n",
    "    \n",
    "    if ch == 1:\n",
    "        login()\n",
    "\n",
    "    elif ch==2:\n",
    "        signup()\n",
    "    elif ch==3:\n",
    "        exit()\n",
    "    else:\n",
    "        print(\"invalid choice no:\")"
   ]
  },
  {
   "cell_type": "code",
   "execution_count": null,
   "metadata": {},
   "outputs": [],
   "source": [
    "main()"
   ]
  },
  {
   "cell_type": "code",
   "execution_count": 13,
   "metadata": {},
   "outputs": [
    {
     "data": {
      "text/plain": [
       "1"
      ]
     },
     "execution_count": 13,
     "metadata": {},
     "output_type": "execute_result"
    }
   ],
   "source": [
    "\n",
    "\n"
   ]
  },
  {
   "cell_type": "code",
   "execution_count": null,
   "metadata": {},
   "outputs": [],
   "source": []
  }
 ],
 "metadata": {
  "kernelspec": {
   "display_name": "Python 3",
   "language": "python",
   "name": "python3"
  },
  "language_info": {
   "codemirror_mode": {
    "name": "ipython",
    "version": 3
   },
   "file_extension": ".py",
   "mimetype": "text/x-python",
   "name": "python",
   "nbconvert_exporter": "python",
   "pygments_lexer": "ipython3",
   "version": "3.7.0"
  }
 },
 "nbformat": 4,
 "nbformat_minor": 2
}
